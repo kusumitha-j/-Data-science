{
 "cells": [
  {
   "cell_type": "code",
   "execution_count": 1,
   "id": "362a8367",
   "metadata": {
    "scrolled": true
   },
   "outputs": [
    {
     "name": "stdout",
     "output_type": "stream",
     "text": [
      "\n",
      "Instances are:\n",
      " [['Morning' 'Sunny' 'Warm' 'Yes' 'Mild' 'Strong']\n",
      " ['Evening' 'Rainy' 'Cold' 'No' 'Mild' 'Normal']\n",
      " ['Morning' 'Sunny' 'Moderate' 'Yes' 'Normal' 'Normal']\n",
      " ['Evening' 'Sunny' 'Cold' 'Yes' 'High' 'Strong']]\n",
      "\n",
      "Target Values are:  ['Yes' 'No' 'Yes' 'Yes']\n"
     ]
    }
   ],
   "source": [
    "import numpy as np \n",
    "import pandas as pd\n",
    "\n",
    "data = pd.read_csv('data_set1.csv')\n",
    "concepts = np.array(data.iloc[:,0:-1])\n",
    "print(\"\\nInstances are:\\n\",concepts)\n",
    "target = np.array(data.iloc[:,-1])\n",
    "print(\"\\nTarget Values are: \",target)"
   ]
  },
  {
   "cell_type": "code",
   "execution_count": 3,
   "id": "ad6f3146",
   "metadata": {},
   "outputs": [
    {
     "name": "stdout",
     "output_type": "stream",
     "text": [
      "['Morning', 'Sunny', 'Warm', 'Yes', 'Mild', 'Strong']\n",
      "[['?', '?', '?', '?', '?', '?'], ['?', '?', '?', '?', '?', '?'], ['?', '?', '?', '?', '?', '?'], ['?', '?', '?', '?', '?', '?'], ['?', '?', '?', '?', '?', '?'], ['?', '?', '?', '?', '?', '?']]\n",
      "\n",
      "steps od candidate Elimination Algorithm 1\n",
      "['Morning', 'Sunny', 'Warm', 'Yes', 'Mild', 'Strong']\n",
      "[['?', '?', '?', '?', '?', '?'], ['?', '?', '?', '?', '?', '?'], ['?', '?', '?', '?', '?', '?'], ['?', '?', '?', '?', '?', '?'], ['?', '?', '?', '?', '?', '?'], ['?', '?', '?', '?', '?', '?']]\n",
      "\n",
      "steps od candidate Elimination Algorithm 2\n",
      "['Morning', 'Sunny', 'Warm', 'Yes', 'Mild', 'Strong']\n",
      "[['?', '?', '?', '?', '?', '?'], ['?', '?', '?', '?', '?', '?'], ['?', '?', '?', '?', '?', '?'], ['?', '?', '?', '?', '?', '?'], ['?', '?', '?', '?', '?', '?'], ['?', '?', '?', '?', '?', '?']]\n",
      "\n",
      "steps od candidate Elimination Algorithm 3\n",
      "['Morning', 'Sunny', 'Warm', 'Yes', 'Mild', 'Strong']\n",
      "[['Morning', '?', '?', '?', '?', '?'], ['?', 'Sunny', '?', '?', '?', '?'], ['?', '?', 'Warm', '?', '?', '?'], ['?', '?', '?', 'Yes', '?', '?'], ['?', '?', '?', '?', '?', '?'], ['?', '?', '?', '?', '?', 'Strong']]\n",
      "\n",
      "steps od candidate Elimination Algorithm 4\n",
      "['Morning', 'Sunny', 'Warm', 'Yes', 'Mild', 'Strong']\n",
      "[['Morning', '?', '?', '?', '?', '?'], ['?', 'Sunny', '?', '?', '?', '?'], ['?', '?', 'Warm', '?', '?', '?'], ['?', '?', '?', 'Yes', '?', '?'], ['?', '?', '?', '?', '?', '?'], ['?', '?', '?', '?', '?', 'Strong']]\n",
      "\n",
      "steps od candidate Elimination Algorithm 5\n",
      "['Morning', 'Sunny', 'Warm', 'Yes', 'Mild', 'Strong']\n",
      "[['Morning', '?', '?', '?', '?', '?'], ['?', 'Sunny', '?', '?', '?', '?'], ['?', '?', 'Warm', '?', '?', '?'], ['?', '?', '?', 'Yes', '?', '?'], ['?', '?', '?', '?', '?', '?'], ['?', '?', '?', '?', '?', 'Strong']]\n",
      "\n",
      " Final specific hypothesis:\n",
      " ['Morning', 'Sunny', 'Warm', 'Yes', 'Mild', 'Strong']\n",
      "\n",
      " Final general hypothesis:\n",
      " [['Morning', '?', '?', '?', '?', '?']]\n",
      "\n",
      " Final specific hypothesis:\n",
      " ['Morning', 'Sunny', 'Warm', 'Yes', 'Mild', 'Strong']\n",
      "\n",
      " Final general hypothesis:\n",
      " [['Morning', '?', '?', '?', '?', '?'], ['?', 'Sunny', '?', '?', '?', '?']]\n",
      "\n",
      " Final specific hypothesis:\n",
      " ['Morning', 'Sunny', 'Warm', 'Yes', 'Mild', 'Strong']\n",
      "\n",
      " Final general hypothesis:\n",
      " [['Morning', '?', '?', '?', '?', '?'], ['?', 'Sunny', '?', '?', '?', '?'], ['?', '?', 'Warm', '?', '?', '?']]\n",
      "\n",
      " Final specific hypothesis:\n",
      " ['Morning', 'Sunny', 'Warm', 'Yes', 'Mild', 'Strong']\n",
      "\n",
      " Final general hypothesis:\n",
      " [['Morning', '?', '?', '?', '?', '?'], ['?', 'Sunny', '?', '?', '?', '?'], ['?', '?', 'Warm', '?', '?', '?'], ['?', '?', '?', 'Yes', '?', '?']]\n",
      "\n",
      " Final specific hypothesis:\n",
      " ['Morning', 'Sunny', 'Warm', 'Yes', 'Mild', 'Strong']\n",
      "\n",
      " Final general hypothesis:\n",
      " [['Morning', '?', '?', '?', '?', '?'], ['?', 'Sunny', '?', '?', '?', '?'], ['?', '?', 'Warm', '?', '?', '?'], ['?', '?', '?', 'Yes', '?', '?']]\n",
      "\n",
      " Final specific hypothesis:\n",
      " ['Morning', 'Sunny', 'Warm', 'Yes', 'Mild', 'Strong']\n",
      "\n",
      " Final general hypothesis:\n",
      " [['Morning', '?', '?', '?', '?', '?'], ['?', 'Sunny', '?', '?', '?', '?'], ['?', '?', 'Warm', '?', '?', '?'], ['?', '?', '?', 'Yes', '?', '?'], ['?', '?', '?', '?', '?', 'Strong']]\n"
     ]
    }
   ],
   "source": [
    "import csv\n",
    "with open ('data_set1.csv') as f:\n",
    "    csv_file=csv.reader(f)\n",
    "    data=list(csv_file)\n",
    "    s=data[1][:-1]\n",
    "    print(s)\n",
    "    g=[['?'for i in range (len(s))]for j in range (len(s))]\n",
    "    print(g)\n",
    "    for i in data:\n",
    "        if i[-1]==\"yes\":\n",
    "            for j in range(len(s)):\n",
    "                if i[j]!=s[j]:\n",
    "                    s[j]='?'\n",
    "                    g[j][j]='?'\n",
    "                    \n",
    "        elif i[-1]==\"No\":\n",
    "            for j in range (len(s)):\n",
    "                if i[j]!=s[j]:\n",
    "                    g[j][j]=s[j]\n",
    "                else:\n",
    "                    g[j][j]=\"?\"\n",
    "        print(\"\\nsteps od candidate Elimination Algorithm\",data.index(i)+1)\n",
    "        print(s)\n",
    "        print(g)\n",
    "    gh=[]\n",
    "    for i in g:\n",
    "        for j in i:\n",
    "            if j!='?':\n",
    "                gh.append(i)\n",
    "                break\n",
    "        print(\"\\n Final specific hypothesis:\\n\",s)\n",
    "        print (\"\\n Final general hypothesis:\\n\",gh) \n",
    "                \n",
    "                    \n",
    "        "
   ]
  },
  {
   "cell_type": "code",
   "execution_count": null,
   "id": "6117f652",
   "metadata": {},
   "outputs": [],
   "source": []
  },
  {
   "cell_type": "code",
   "execution_count": null,
   "id": "fed420ea",
   "metadata": {},
   "outputs": [],
   "source": []
  }
 ],
 "metadata": {
  "kernelspec": {
   "display_name": "Python 3 (ipykernel)",
   "language": "python",
   "name": "python3"
  },
  "language_info": {
   "codemirror_mode": {
    "name": "ipython",
    "version": 3
   },
   "file_extension": ".py",
   "mimetype": "text/x-python",
   "name": "python",
   "nbconvert_exporter": "python",
   "pygments_lexer": "ipython3",
   "version": "3.8.10"
  }
 },
 "nbformat": 4,
 "nbformat_minor": 5
}
