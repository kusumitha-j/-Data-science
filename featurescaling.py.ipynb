{
 "cells": [
  {
   "cell_type": "code",
   "execution_count": 11,
   "id": "311a4208",
   "metadata": {},
   "outputs": [
    {
     "name": "stdout",
     "output_type": "stream",
     "text": [
      "   Country  Age  Salary Purchased\n",
      "0   France   44   72000        No\n",
      "1    Spain   27   48000       Yes\n",
      "2  Germany   30   54000        No\n",
      "3    Spain   38   61000        No\n",
      "4  Germany   40    1000       Yes\n",
      "\n",
      "Original data values : \n",
      " [[   44 72000]\n",
      " [   27 48000]\n",
      " [   30 54000]\n",
      " [   38 61000]\n",
      " [   40  1000]\n",
      " [   35 58000]\n",
      " [   78 52000]\n",
      " [   48 79000]\n",
      " [   50 83000]\n",
      " [   37 67000]]\n"
     ]
    }
   ],
   "source": [
    "#Importing Libraries\n",
    "import pandas as pd\n",
    "# Sklearn library\n",
    "from sklearn import preprocessing\n",
    "#Import Data\n",
    "data_set = pd.read_csv('bin.csv')\n",
    "print(data_set.head())\n",
    "# here Features - Age and Salary columns\n",
    "# are taken using slicing\n",
    "# to handle values with varying magnitude\n",
    "x = data_set.iloc[:, 1:3].values\n",
    "print (\"\\nOriginal data values : \\n\", x)\n",
    "#MIN MAX SCALER\n",
    "#min_max_scaler = preprocessing.MinMaxScaler(feature_range =(0, 1))\n",
    "# Scaled feature\n",
    "#x_after_min_max_scaler = min_max_scaler.fit_transform(x)\n",
    "#print (\"\\nAfter min max Scaling : \\n\", x_after_min_max_scaler)"
   ]
  },
  {
   "cell_type": "markdown",
   "id": "593aba7e",
   "metadata": {},
   "source": [
    "## "
   ]
  }
 ],
 "metadata": {
  "kernelspec": {
   "display_name": "Python 3 (ipykernel)",
   "language": "python",
   "name": "python3"
  },
  "language_info": {
   "codemirror_mode": {
    "name": "ipython",
    "version": 3
   },
   "file_extension": ".py",
   "mimetype": "text/x-python",
   "name": "python",
   "nbconvert_exporter": "python",
   "pygments_lexer": "ipython3",
   "version": "3.8.10"
  }
 },
 "nbformat": 4,
 "nbformat_minor": 5
}
