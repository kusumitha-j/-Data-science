{
 "cells": [
  {
   "cell_type": "code",
   "execution_count": 1,
   "id": "39266d96",
   "metadata": {},
   "outputs": [
    {
     "name": "stdout",
     "output_type": "stream",
     "text": [
      "   Country  Age  Salary Purchased\n",
      "0   France   44   72000        No\n",
      "1    Spain   27   48000       Yes\n",
      "2  Germany   30   54000        No\n",
      "3    Spain   38   61000        No\n",
      "4  Germany   40    1000       Yes\n",
      "\n",
      "After min max Scaling : \n",
      " [[0.33333333 0.86585366]\n",
      " [0.         0.57317073]\n",
      " [0.05882353 0.64634146]\n",
      " [0.21568627 0.73170732]\n",
      " [0.25490196 0.        ]\n",
      " [0.15686275 0.69512195]\n",
      " [1.         0.62195122]\n",
      " [0.41176471 0.95121951]\n",
      " [0.45098039 1.        ]\n",
      " [0.19607843 0.80487805]]\n"
     ]
    }
   ],
   "source": [
    "#Importing Libraries\n",
    "import pandas as pd\n",
    "# Sklearn library\n",
    "from sklearn import preprocessing\n",
    "#Import Data\n",
    "data_set = pd.read_csv('bin.csv')\n",
    "print(data_set.head())\n",
    "# here Features - Age and Salary columns\n",
    "# are taken using slicing\n",
    "# to handle values with varying magnitude\n",
    "x = data_set.iloc[:, 1:3].values\n",
    "#print (\"\\nOriginal data values : \\n\", x)\n",
    "min_max_scaler = preprocessing.MinMaxScaler(feature_range =(0, 1))\n",
    "#Scaled feature\n",
    "x_after_min_max_scaler = min_max_scaler.fit_transform(x)\n",
    "print (\"\\nAfter min max Scaling : \\n\", x_after_min_max_scaler)"
   ]
  },
  {
   "cell_type": "code",
   "execution_count": null,
   "id": "8565c87f",
   "metadata": {},
   "outputs": [],
   "source": []
  },
  {
   "cell_type": "code",
   "execution_count": null,
   "id": "cb3bf14e",
   "metadata": {},
   "outputs": [],
   "source": []
  },
  {
   "cell_type": "code",
   "execution_count": null,
   "id": "1680f618",
   "metadata": {},
   "outputs": [],
   "source": []
  }
 ],
 "metadata": {
  "kernelspec": {
   "display_name": "Python 3 (ipykernel)",
   "language": "python",
   "name": "python3"
  },
  "language_info": {
   "codemirror_mode": {
    "name": "ipython",
    "version": 3
   },
   "file_extension": ".py",
   "mimetype": "text/x-python",
   "name": "python",
   "nbconvert_exporter": "python",
   "pygments_lexer": "ipython3",
   "version": "3.8.10"
  }
 },
 "nbformat": 4,
 "nbformat_minor": 5
}
