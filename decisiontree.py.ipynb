{
 "cells": [
  {
   "cell_type": "code",
   "execution_count": 7,
   "id": "640d6135",
   "metadata": {},
   "outputs": [
    {
     "data": {
      "text/html": [
       "<div>\n",
       "<style scoped>\n",
       "    .dataframe tbody tr th:only-of-type {\n",
       "        vertical-align: middle;\n",
       "    }\n",
       "\n",
       "    .dataframe tbody tr th {\n",
       "        vertical-align: top;\n",
       "    }\n",
       "\n",
       "    .dataframe thead th {\n",
       "        text-align: right;\n",
       "    }\n",
       "</style>\n",
       "<table border=\"1\" class=\"dataframe\">\n",
       "  <thead>\n",
       "    <tr style=\"text-align: right;\">\n",
       "      <th></th>\n",
       "      <th>Pregnancies</th>\n",
       "      <th>Glucose</th>\n",
       "      <th>BloodPressure</th>\n",
       "      <th>SkinThickness</th>\n",
       "      <th>Insulin</th>\n",
       "      <th>BMI</th>\n",
       "      <th>DiabetesPedigreeFunction</th>\n",
       "      <th>Age</th>\n",
       "      <th>Outcome</th>\n",
       "    </tr>\n",
       "  </thead>\n",
       "  <tbody>\n",
       "    <tr>\n",
       "      <th>0</th>\n",
       "      <td>6</td>\n",
       "      <td>148</td>\n",
       "      <td>72</td>\n",
       "      <td>35</td>\n",
       "      <td>0</td>\n",
       "      <td>33.6</td>\n",
       "      <td>0.627</td>\n",
       "      <td>50</td>\n",
       "      <td>1</td>\n",
       "    </tr>\n",
       "    <tr>\n",
       "      <th>1</th>\n",
       "      <td>1</td>\n",
       "      <td>85</td>\n",
       "      <td>66</td>\n",
       "      <td>29</td>\n",
       "      <td>0</td>\n",
       "      <td>26.6</td>\n",
       "      <td>0.351</td>\n",
       "      <td>31</td>\n",
       "      <td>0</td>\n",
       "    </tr>\n",
       "    <tr>\n",
       "      <th>2</th>\n",
       "      <td>8</td>\n",
       "      <td>183</td>\n",
       "      <td>64</td>\n",
       "      <td>0</td>\n",
       "      <td>0</td>\n",
       "      <td>23.3</td>\n",
       "      <td>0.672</td>\n",
       "      <td>32</td>\n",
       "      <td>1</td>\n",
       "    </tr>\n",
       "    <tr>\n",
       "      <th>3</th>\n",
       "      <td>1</td>\n",
       "      <td>89</td>\n",
       "      <td>66</td>\n",
       "      <td>23</td>\n",
       "      <td>94</td>\n",
       "      <td>28.1</td>\n",
       "      <td>0.167</td>\n",
       "      <td>21</td>\n",
       "      <td>0</td>\n",
       "    </tr>\n",
       "    <tr>\n",
       "      <th>4</th>\n",
       "      <td>0</td>\n",
       "      <td>137</td>\n",
       "      <td>40</td>\n",
       "      <td>35</td>\n",
       "      <td>168</td>\n",
       "      <td>43.1</td>\n",
       "      <td>2.288</td>\n",
       "      <td>33</td>\n",
       "      <td>1</td>\n",
       "    </tr>\n",
       "  </tbody>\n",
       "</table>\n",
       "</div>"
      ],
      "text/plain": [
       "   Pregnancies  Glucose  BloodPressure  SkinThickness  Insulin   BMI  \\\n",
       "0            6      148             72             35        0  33.6   \n",
       "1            1       85             66             29        0  26.6   \n",
       "2            8      183             64              0        0  23.3   \n",
       "3            1       89             66             23       94  28.1   \n",
       "4            0      137             40             35      168  43.1   \n",
       "\n",
       "   DiabetesPedigreeFunction  Age  Outcome  \n",
       "0                     0.627   50        1  \n",
       "1                     0.351   31        0  \n",
       "2                     0.672   32        1  \n",
       "3                     0.167   21        0  \n",
       "4                     2.288   33        1  "
      ]
     },
     "execution_count": 7,
     "metadata": {},
     "output_type": "execute_result"
    }
   ],
   "source": [
    "from sklearn.tree import DecisionTreeClassifier\n",
    "import pandas as pd\n",
    "from sklearn.metrics import confusion_matrix\n",
    "\n",
    "dataset=pd.read_csv('pima_1.csv')\n",
    "dataset.head()"
   ]
  },
  {
   "cell_type": "code",
   "execution_count": 9,
   "id": "bcffe7c5",
   "metadata": {},
   "outputs": [
    {
     "name": "stdout",
     "output_type": "stream",
     "text": [
      "Confusion Matrix:\n",
      " [[296 157]\n",
      " [ 98 137]]\n"
     ]
    }
   ],
   "source": [
    "train_features=dataset.iloc[:80,:-1]\n",
    "test_features=dataset.iloc[80:,:-1]\n",
    "train_targets=dataset.iloc[:80,-1]\n",
    "test_targets=dataset.iloc[80:,-1]\n",
    "tree1=DecisionTreeClassifier(criterion='entropy').fit(train_features,train_targets)\n",
    "\n",
    "prediction=tree1.predict(test_features)\n",
    "cm=confusion_matrix(test_targets,prediction)\n",
    "print('Confusion Matrix:\\n',cm)"
   ]
  },
  {
   "cell_type": "code",
   "execution_count": 5,
   "id": "d4ce13f3",
   "metadata": {},
   "outputs": [
    {
     "name": "stdout",
     "output_type": "stream",
     "text": [
      "False Positive \n",
      " 154\n",
      "False Negative \n",
      " 96\n",
      "True Positive \n",
      " 299\n",
      "True Negative \n",
      " 139\n"
     ]
    }
   ],
   "source": [
    "TP=cm[0][0]\n",
    "FP=cm[0][1]\n",
    "FN=cm[1][0]\n",
    "TN=cm[1][1]\n",
    "print('False Positive \\n {}'.format(FP))\n",
    "print('False Negative \\n {}'.format(FN))\n",
    "print('True Positive \\n {}'.format(TP))\n",
    "print('True Negative \\n {}'.format(TN))"
   ]
  },
  {
   "cell_type": "code",
   "execution_count": 6,
   "id": "4a9dd8f1",
   "metadata": {},
   "outputs": [
    {
     "name": "stdout",
     "output_type": "stream",
     "text": [
      "Senstivity \n",
      " 0.7569620253164557\n",
      "Specificity \n",
      " 0.47440273037542663\n",
      "Precision \n",
      " 0.6600441501103753\n",
      "Recall \n",
      " 0.7569620253164557\n",
      "Accuracy \n",
      " 0.6366279069767442\n",
      "FScore \n",
      " 0.7051886792452831\n"
     ]
    }
   ],
   "source": [
    "TPR=TP/(TP+FN)\n",
    "print('Senstivity \\n {}'.format(TPR))\n",
    "TNR=TN/(TN+FP)\n",
    "print('Specificity \\n {}'.format(TNR))\n",
    "Precision=TP/(TP+FP)\n",
    "print('Precision \\n {}'.format(Precision))\n",
    "Recall=TP/(TP+FN)\n",
    "print('Recall \\n {}'.format(Recall))\n",
    "Acc=(TP+TN)/(TP+TN+FP+FN)\n",
    "print('Accuracy \\n {}'.format(Acc))\n",
    "Fscore=2*(Precision*Recall)/(Precision+Recall)\n",
    "print('FScore \\n {}'.format(Fscore))"
   ]
  },
  {
   "cell_type": "code",
   "execution_count": null,
   "id": "04cbb4b5",
   "metadata": {},
   "outputs": [],
   "source": []
  }
 ],
 "metadata": {
  "kernelspec": {
   "display_name": "Python 3 (ipykernel)",
   "language": "python",
   "name": "python3"
  },
  "language_info": {
   "codemirror_mode": {
    "name": "ipython",
    "version": 3
   },
   "file_extension": ".py",
   "mimetype": "text/x-python",
   "name": "python",
   "nbconvert_exporter": "python",
   "pygments_lexer": "ipython3",
   "version": "3.8.10"
  }
 },
 "nbformat": 4,
 "nbformat_minor": 5
}
