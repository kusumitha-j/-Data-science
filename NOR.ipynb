{
  "nbformat": 4,
  "nbformat_minor": 0,
  "metadata": {
    "colab": {
      "name": "NOR.ipynb",
      "provenance": [],
      "authorship_tag": "ABX9TyPTPzoAu3Sd0Gv1llc6nYJ5",
      "include_colab_link": true
    },
    "kernelspec": {
      "name": "python3",
      "display_name": "Python 3"
    },
    "language_info": {
      "name": "python"
    }
  },
  "cells": [
    {
      "cell_type": "markdown",
      "metadata": {
        "id": "view-in-github",
        "colab_type": "text"
      },
      "source": [
        "<a href=\"https://colab.research.google.com/github/kusumitha-j/-Data-science/blob/main/NOR.ipynb\" target=\"_parent\"><img src=\"https://colab.research.google.com/assets/colab-badge.svg\" alt=\"Open In Colab\"/></a>"
      ]
    },
    {
      "cell_type": "code",
      "execution_count": 5,
      "metadata": {
        "colab": {
          "base_uri": "https://localhost:8080/"
        },
        "id": "Vb1DCqDkJ2um",
        "outputId": "ececb00d-bb79-4e03-95ff-b283301e00fc"
      },
      "outputs": [
        {
          "output_type": "stream",
          "name": "stdout",
          "text": [
            "list: [[0, 0, 0], [0, 0, 1], [0, 1, 0], [0, 1, 1], [1, 0, 0], [1, 0, 1], [1, 1, 0], [1, 1, 1]]\n",
            "[0, 0, 0] :: 1\n",
            "[0, 0, 1] :: 0\n",
            "[0, 0, 1] :: 1\n",
            "[0, 1, 0] :: 0\n",
            "[0, 1, 0] :: 1\n",
            "[0, 1, 1] :: 0\n",
            "[0, 1, 1] :: 1\n",
            "[1, 0, 0] :: 0\n",
            "[1, 0, 0] :: 1\n",
            "[1, 0, 1] :: 0\n",
            "[1, 0, 1] :: 1\n",
            "[1, 1, 0] :: 0\n",
            "[1, 1, 0] :: 1\n",
            "[1, 1, 1] :: 0\n",
            "[1, 1, 1] :: 1\n"
          ]
        }
      ],
      "source": [
        "input_x = [[0,0,0],[0,0,1],[0,1,0],[0,1,1],[1,0,0],[1,0,1],[1,1,0],[1,1,1]]\n",
        "#printing the input  values\n",
        "print(\"list:\",str(input_x))\n",
        "\n",
        "#weight(W) is 1 :starting weight\n",
        "\n",
        "#weight2(W2) is -1 : threshold weight \n",
        "\n",
        "list1 = []\n",
        "\n",
        "for i in range(0,len(input_x)):\n",
        "  high = [num * 1 for num in input_x[i]]\n",
        "\n",
        "  total = sum(high)\n",
        "\n",
        "  if total >= 1:\n",
        "      total1 = total * (-1)\n",
        "      if total1 < 0:\n",
        "        print(str(input_x[i]),\":: 0\")\n",
        "  elif total < 1:\n",
        "    total2 = total * (-1)\n",
        "  if total2 == 0:\n",
        "      print(str(input_x[i]),\":: 1\")\n"
      ]
    }
  ]
}