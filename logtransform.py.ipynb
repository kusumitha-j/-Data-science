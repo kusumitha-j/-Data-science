{
 "cells": [
  {
   "cell_type": "code",
   "execution_count": 2,
   "id": "99fa5b1f",
   "metadata": {},
   "outputs": [
    {
     "name": "stdout",
     "output_type": "stream",
     "text": [
      "   value     log+1\n",
      "0      2  1.098612\n",
      "1     45  3.828641\n",
      "2    -23       NaN\n",
      "3     85  4.454347\n",
      "4     28  3.367296\n",
      "5      2  1.098612\n",
      "6     35  3.583519\n",
      "7    -12       NaN\n",
      "   value     log+1       log\n",
      "0      2  1.098612  3.258097\n",
      "1     45  3.828641  4.234107\n",
      "2    -23       NaN  0.000000\n",
      "3     85  4.454347  4.691348\n",
      "4     28  3.367296  3.951244\n",
      "5      2  1.098612  3.258097\n",
      "6     35  3.583519  4.077537\n",
      "7    -12       NaN  2.484907\n"
     ]
    }
   ],
   "source": [
    "import pandas as pd\n",
    "import numpy as np\n",
    "#Log Transform Example\n",
    "data = pd.DataFrame({'value':[2,45, -23, 85, 28, 2, 35, -12]})\n",
    "data['log+1'] = (data['value']+1).transform(np.log)\n",
    "print(data)\n",
    "#Negative Values Handling. Note that the values are different\n",
    "data['log'] = (data['value']-data['value'].min()+1) .transform(np.log)\n",
    "print(data)"
   ]
  },
  {
   "cell_type": "code",
   "execution_count": null,
   "id": "6a7641de",
   "metadata": {},
   "outputs": [],
   "source": []
  },
  {
   "cell_type": "code",
   "execution_count": null,
   "id": "b49c17bd",
   "metadata": {},
   "outputs": [],
   "source": []
  }
 ],
 "metadata": {
  "kernelspec": {
   "display_name": "Python 3 (ipykernel)",
   "language": "python",
   "name": "python3"
  },
  "language_info": {
   "codemirror_mode": {
    "name": "ipython",
    "version": 3
   },
   "file_extension": ".py",
   "mimetype": "text/x-python",
   "name": "python",
   "nbconvert_exporter": "python",
   "pygments_lexer": "ipython3",
   "version": "3.8.10"
  }
 },
 "nbformat": 4,
 "nbformat_minor": 5
}
