{
 "cells": [
  {
   "cell_type": "code",
   "execution_count": 1,
   "id": "3e7f30bb",
   "metadata": {},
   "outputs": [
    {
     "name": "stdout",
     "output_type": "stream",
     "text": [
      "[93 60 82  5 84 80 20 43 49 93 40 31 21 65 46 21 13 14 43 21]\n",
      "[9 6 8 0 8 8 2 4 4 9 4 3 2 6 4 2 1 1 4 2]\n",
      "[2. 3. 4. 1. 0. 2. 2. 3. 3. 4. 4. 1. 1. 3. 2. 1.]\n",
      "[1 3 3 1 0 1 1 2 2 3 3 0 0 2 2 0]\n",
      "0       296\n",
      "1      8286\n",
      "2     64011\n",
      "3        80\n",
      "4         3\n",
      "5       725\n",
      "6       867\n",
      "7      2215\n",
      "8      7689\n",
      "9     11495\n",
      "10    91897\n",
      "11       44\n",
      "12       28\n",
      "13     7971\n",
      "14      926\n",
      "15       12\n",
      "dtype: int64\n"
     ]
    }
   ],
   "source": [
    "import pandas as pd\n",
    "import numpy as np\n",
    "# Generate 20 random integers uniformly between 0 and 99\n",
    "small_counts = np.random.randint(0, 100, 20)\n",
    "print(small_counts)\n",
    "# Map to evenly spaced bins 0-9 by division\n",
    "print(np.floor_divide(small_counts, 10))\n",
    "\n",
    "large_counts = [296, 8286, 64011, 80, 3, 725, 867, 2215, 7689, 11495, 91897, 44, 28, 7971,\n",
    "926, 12]\n",
    "print(np.floor(np.log10(large_counts)))\n",
    "#Map the counts to quartiles into 4 bins (quartile)\n",
    "print(pd.qcut(large_counts, 4, labels=False))\n",
    "#convert large_counts into series data\n",
    "large_counts_series = pd.Series(large_counts)\n",
    "print(large_counts_series)\n",
    "print(large_counts_series.quantile([0.25, 0.5, 0.75]))"
   ]
  },
  {
   "cell_type": "code",
   "execution_count": null,
   "id": "ee2142f3",
   "metadata": {},
   "outputs": [],
   "source": []
  }
 ],
 "metadata": {
  "kernelspec": {
   "display_name": "Python 3 (ipykernel)",
   "language": "python",
   "name": "python3"
  },
  "language_info": {
   "codemirror_mode": {
    "name": "ipython",
    "version": 3
   },
   "file_extension": ".py",
   "mimetype": "text/x-python",
   "name": "python",
   "nbconvert_exporter": "python",
   "pygments_lexer": "ipython3",
   "version": "3.8.10"
  }
 },
 "nbformat": 4,
 "nbformat_minor": 5
}
